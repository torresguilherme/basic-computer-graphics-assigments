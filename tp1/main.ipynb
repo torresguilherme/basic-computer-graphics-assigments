{
 "cells": [
  {
   "cell_type": "code",
   "execution_count": 2,
   "metadata": {},
   "outputs": [
    {
     "name": "stdout",
     "output_type": "stream",
     "text": [
      "Requirement already satisfied: PyOpenGL in /home/guilherme/anaconda3/lib/python3.7/site-packages (3.1.1a1)\n",
      "Collecting pyrr\n",
      "\u001b[?25l  Downloading https://files.pythonhosted.org/packages/80/d4/09bb74e93f9f677eadcf9ddb92681755f75e0f354a1b904f1913e32ca1b2/pyrr-0.10.3-py3-none-any.whl (46kB)\n",
      "\u001b[K    100% |████████████████████████████████| 51kB 857kB/s ta 0:00:01\n",
      "\u001b[?25hCollecting glfw\n",
      "Requirement already satisfied: multipledispatch in /home/guilherme/anaconda3/lib/python3.7/site-packages (from pyrr) (0.6.0)\n",
      "Requirement already satisfied: numpy in /home/guilherme/anaconda3/lib/python3.7/site-packages (from pyrr) (1.16.2)\n",
      "Requirement already satisfied: six in /home/guilherme/anaconda3/lib/python3.7/site-packages (from multipledispatch->pyrr) (1.12.0)\n",
      "Installing collected packages: pyrr, glfw\n",
      "Successfully installed glfw-1.7.1 pyrr-0.10.3\n"
     ]
    }
   ],
   "source": [
    "# faz o setup do ambiente\n",
    "import sys\n",
    "!{sys.executable} -m pip install PyOpenGL pyrr glfw numpy"
   ]
  },
  {
   "cell_type": "code",
   "execution_count": 4,
   "metadata": {},
   "outputs": [],
   "source": [
    "from OpenGL.GL import *\n",
    "import OpenGL.GL.shaders\n",
    "import OpenGL.GLU\n",
    "import pyrr\n",
    "import glfw\n",
    "import numpy"
   ]
  },
  {
   "cell_type": "code",
   "execution_count": 5,
   "metadata": {},
   "outputs": [],
   "source": [
    "# shaders\n",
    "vertex_shader = '''\n",
    "void main()\n",
    "{\n",
    "\n",
    "}\n",
    "'''\n",
    "\n",
    "fragment_shader = '''\n",
    "uniform float albedo_r;\n",
    "uniform float albedo_g;\n",
    "uniform float albedo_b;\n",
    "\n",
    "uniform float kd;\n",
    "uniform float ks;\n",
    "\n",
    "uniform int shading_type;\n",
    "\n",
    "void main()\n",
    "{\n",
    "}\n",
    "'''"
   ]
  },
  {
   "cell_type": "code",
   "execution_count": null,
   "metadata": {},
   "outputs": [],
   "source": [
    "# material\n",
    "class PhongMaterial:\n",
    "    def __init__(shader, shading_type, albedo_r, albedo_g, albedo_b, diffuse_constant, specular_constant):\n",
    "        self.shader = shader\n",
    "        self.shading_type = shading_type\n",
    "        self.albedo = (albedo_r, albedo_g, albedo_b)\n",
    "        self.diffuse_constant = diffuse_constant\n",
    "        self.specular_constant = specular_constant\n",
    "    def set_up_rendering():\n",
    "        glUseProgram(shader)\n",
    "        \n",
    "        r = glGetUniformLocation(shader, 'albedo_r')\n",
    "        g = glGetUniformLocation(shader, 'albedo_g')\n",
    "        b = glGetUniformLocation(shader, 'albedo_b')\n",
    "        glUniform1f(r, albedo_r)\n",
    "        glUniform1f(g, albedo_g)\n",
    "        glUniform1f(b, albedo_b)\n",
    "        \n",
    "        kd = glGetUniformLocation(shader, 'kd')\n",
    "        ks = glGetUniformLocation(shader, 'ks')\n",
    "        glUniform1f(kd, diffuse_constant)\n",
    "        glUniform1f(ks, specular_constant)\n",
    "        \n",
    "        st = glGetUniformLocation(shader, 'shading_type')\n",
    "        if shading_type == 'gouraud':\n",
    "            pass\n",
    "        elif shading_type == 'phong':\n",
    "            pass\n",
    "        else:\n",
    "            pass"
   ]
  },
  {
   "cell_type": "code",
   "execution_count": null,
   "metadata": {},
   "outputs": [],
   "source": [
    "class Shape:\n",
    "    def __init__(shape_type, material):\n",
    "        self.material = material\n",
    "        self.shape_type = shape_type"
   ]
  },
  {
   "cell_type": "code",
   "execution_count": 6,
   "metadata": {},
   "outputs": [],
   "source": [
    "def main():\n",
    "    if not glfw.init():\n",
    "        return\n",
    "    window = glfw.create_window(1280, 760, 'X-fera', None, None)\n",
    "    if not window:\n",
    "        glfw.terminate()\n",
    "        return\n",
    "    \n",
    "    glfw.make_context_current(window)\n",
    "    \n",
    "    glClearColor(0.2, 0.3, 0.2, 1.0)\n",
    "    glEnable(GL_DEPTH_TEST)\n",
    "    \n",
    "    while not glfw.window_should_close(window):\n",
    "        glfw.poll_events()\n",
    "        glClear(GL_COLOR_BUFFER_BIT | GL_DEPTH_BUFFER_BIT)\n",
    "        glfw.swap_buffers(window)\n",
    "    glfw.terminate()\n",
    "    \n",
    "if __name__ == '__main__':\n",
    "    main()"
   ]
  },
  {
   "cell_type": "code",
   "execution_count": null,
   "metadata": {},
   "outputs": [],
   "source": []
  }
 ],
 "metadata": {
  "kernelspec": {
   "display_name": "Python 3",
   "language": "python",
   "name": "python3"
  },
  "language_info": {
   "codemirror_mode": {
    "name": "ipython",
    "version": 3
   },
   "file_extension": ".py",
   "mimetype": "text/x-python",
   "name": "python",
   "nbconvert_exporter": "python",
   "pygments_lexer": "ipython3",
   "version": "3.7.3"
  }
 },
 "nbformat": 4,
 "nbformat_minor": 2
}
