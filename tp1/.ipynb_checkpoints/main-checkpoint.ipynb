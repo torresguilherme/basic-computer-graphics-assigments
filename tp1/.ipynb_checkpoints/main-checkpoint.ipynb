{
 "cells": [
  {
   "cell_type": "code",
   "execution_count": 2,
   "metadata": {},
   "outputs": [
    {
     "name": "stdout",
     "output_type": "stream",
     "text": [
      "Requirement already satisfied: PyOpenGL in /home/guilhermetorres/anaconda3/lib/python3.7/site-packages (3.1.1a1)\n",
      "Collecting pyrr\n",
      "\u001b[?25l  Downloading https://files.pythonhosted.org/packages/80/d4/09bb74e93f9f677eadcf9ddb92681755f75e0f354a1b904f1913e32ca1b2/pyrr-0.10.3-py3-none-any.whl (46kB)\n",
      "\u001b[K    100% |████████████████████████████████| 51kB 1.4MB/s ta 0:00:01\n",
      "\u001b[?25hCollecting glfw\n",
      "  Downloading https://files.pythonhosted.org/packages/5d/65/c6275744a01425195f1f446e022e5dfa6497aa68479a3952e434e04b2fa0/glfw-1.7.1.tar.gz\n",
      "Requirement already satisfied: numpy in /home/guilhermetorres/anaconda3/lib/python3.7/site-packages (1.16.2)\n",
      "Requirement already satisfied: multipledispatch in /home/guilhermetorres/anaconda3/lib/python3.7/site-packages (from pyrr) (0.6.0)\n",
      "Requirement already satisfied: six in /home/guilhermetorres/anaconda3/lib/python3.7/site-packages (from multipledispatch->pyrr) (1.12.0)\n",
      "Building wheels for collected packages: glfw\n",
      "  Building wheel for glfw (setup.py) ... \u001b[?25ldone\n",
      "\u001b[?25h  Stored in directory: /home/guilhermetorres/.cache/pip/wheels/c5/53/f9/fd31798dce7e10aa49f8354e4111b9c9cad10c894184658663\n",
      "Successfully built glfw\n",
      "Installing collected packages: pyrr, glfw\n",
      "Successfully installed glfw-1.7.1 pyrr-0.10.3\n"
     ]
    }
   ],
   "source": [
    "# faz o setup do ambiente\n",
    "import sys\n",
    "!{sys.executable} -m pip install PyOpenGL pyrr glfw numpy"
   ]
  },
  {
   "cell_type": "code",
   "execution_count": 1,
   "metadata": {},
   "outputs": [],
   "source": [
    "from OpenGL.GL import *\n",
    "from OpenGL.GL import shaders\n",
    "import OpenGL.GLU\n",
    "import pyrr\n",
    "import glfw\n",
    "import numpy"
   ]
  },
  {
   "cell_type": "code",
   "execution_count": 2,
   "metadata": {},
   "outputs": [],
   "source": [
    "# shaders\n",
    "vertex_shader = '''\n",
    "#version 330\n",
    "void main()\n",
    "{\n",
    "\n",
    "}\n",
    "'''\n",
    "\n",
    "fragment_shader = '''\n",
    "#version 330\n",
    "uniform float albedo_r;\n",
    "uniform float albedo_g;\n",
    "uniform float albedo_b;\n",
    "\n",
    "uniform float kd;\n",
    "uniform float ks;\n",
    "\n",
    "uniform int shading_type;\n",
    "\n",
    "void main()\n",
    "{\n",
    "}\n",
    "'''"
   ]
  },
  {
   "cell_type": "code",
   "execution_count": 3,
   "metadata": {},
   "outputs": [],
   "source": [
    "# material\n",
    "class PhongMaterial:\n",
    "    def __init__(shader, shading_type, albedo_r, albedo_g, albedo_b, diffuse_constant, specular_constant):\n",
    "        self.shader = shader\n",
    "        self.shading_type = shading_type\n",
    "        self.albedo = (albedo_r, albedo_g, albedo_b)\n",
    "        self.diffuse_constant = diffuse_constant\n",
    "        self.specular_constant = specular_constant\n",
    "    def set_up_rendering():\n",
    "        glUseProgram(shader)\n",
    "        \n",
    "        r = glGetUniformLocation(shader, 'albedo_r')\n",
    "        g = glGetUniformLocation(shader, 'albedo_g')\n",
    "        b = glGetUniformLocation(shader, 'albedo_b')\n",
    "        glUniform1f(r, albedo_r)\n",
    "        glUniform1f(g, albedo_g)\n",
    "        glUniform1f(b, albedo_b)\n",
    "        \n",
    "        kd = glGetUniformLocation(shader, 'kd')\n",
    "        ks = glGetUniformLocation(shader, 'ks')\n",
    "        glUniform1f(kd, diffuse_constant)\n",
    "        glUniform1f(ks, specular_constant)\n",
    "        \n",
    "        st = glGetUniformLocation(shader, 'shading_type')\n",
    "        if shading_type == 'gouraud':\n",
    "            glUniform1i(st, 1)\n",
    "        elif shading_type == 'phong':\n",
    "            glUniform1i(st, 2)\n",
    "        else:\n",
    "            glUniform1i(st, 0)"
   ]
  },
  {
   "cell_type": "code",
   "execution_count": 4,
   "metadata": {},
   "outputs": [],
   "source": [
    "class Shape:\n",
    "    def __init__(shape_type, material):\n",
    "        self.material = material\n",
    "        self.shape_type = shape_type\n",
    "    def render():\n",
    "        # to do: tratar formato (shape_type)\n",
    "        material.set_up_rendering()"
   ]
  },
  {
   "cell_type": "code",
   "execution_count": 5,
   "metadata": {},
   "outputs": [
    {
     "ename": "TypeError",
     "evalue": "__init__() takes 7 positional arguments but 8 were given",
     "output_type": "error",
     "traceback": [
      "\u001b[0;31m---------------------------------------------------------------------------\u001b[0m",
      "\u001b[0;31mTypeError\u001b[0m                                 Traceback (most recent call last)",
      "\u001b[0;32m<ipython-input-5-e96d716ffa53>\u001b[0m in \u001b[0;36m<module>\u001b[0;34m\u001b[0m\n\u001b[1;32m     23\u001b[0m \u001b[0;34m\u001b[0m\u001b[0m\n\u001b[1;32m     24\u001b[0m \u001b[0;32mif\u001b[0m \u001b[0m__name__\u001b[0m \u001b[0;34m==\u001b[0m \u001b[0;34m'__main__'\u001b[0m\u001b[0;34m:\u001b[0m\u001b[0;34m\u001b[0m\u001b[0;34m\u001b[0m\u001b[0m\n\u001b[0;32m---> 25\u001b[0;31m     \u001b[0mmain\u001b[0m\u001b[0;34m(\u001b[0m\u001b[0;34m)\u001b[0m\u001b[0;34m\u001b[0m\u001b[0;34m\u001b[0m\u001b[0m\n\u001b[0m",
      "\u001b[0;32m<ipython-input-5-e96d716ffa53>\u001b[0m in \u001b[0;36mmain\u001b[0;34m()\u001b[0m\n\u001b[1;32m     13\u001b[0m \u001b[0;34m\u001b[0m\u001b[0m\n\u001b[1;32m     14\u001b[0m     \u001b[0mshader\u001b[0m \u001b[0;34m=\u001b[0m \u001b[0mshaders\u001b[0m\u001b[0;34m.\u001b[0m\u001b[0mcompileProgram\u001b[0m\u001b[0;34m(\u001b[0m\u001b[0mshaders\u001b[0m\u001b[0;34m.\u001b[0m\u001b[0mcompileShader\u001b[0m\u001b[0;34m(\u001b[0m\u001b[0mvertex_shader\u001b[0m\u001b[0;34m,\u001b[0m \u001b[0mGL_VERTEX_SHADER\u001b[0m\u001b[0;34m)\u001b[0m\u001b[0;34m,\u001b[0m \u001b[0mshaders\u001b[0m\u001b[0;34m.\u001b[0m\u001b[0mcompileShader\u001b[0m\u001b[0;34m(\u001b[0m\u001b[0mfragment_shader\u001b[0m\u001b[0;34m,\u001b[0m \u001b[0mGL_FRAGMENT_SHADER\u001b[0m\u001b[0;34m)\u001b[0m\u001b[0;34m)\u001b[0m\u001b[0;34m\u001b[0m\u001b[0;34m\u001b[0m\u001b[0m\n\u001b[0;32m---> 15\u001b[0;31m     \u001b[0mshape\u001b[0m \u001b[0;34m=\u001b[0m \u001b[0mShape\u001b[0m\u001b[0;34m(\u001b[0m\u001b[0;34m'sphere'\u001b[0m\u001b[0;34m,\u001b[0m \u001b[0mPhongMaterial\u001b[0m\u001b[0;34m(\u001b[0m\u001b[0mshader\u001b[0m\u001b[0;34m,\u001b[0m \u001b[0;34m'flat'\u001b[0m\u001b[0;34m,\u001b[0m \u001b[0;36m1\u001b[0m\u001b[0;34m,\u001b[0m \u001b[0;36m0\u001b[0m\u001b[0;34m,\u001b[0m \u001b[0;36m0\u001b[0m\u001b[0;34m,\u001b[0m \u001b[0;36m0.5\u001b[0m\u001b[0;34m,\u001b[0m \u001b[0;36m0.3\u001b[0m\u001b[0;34m)\u001b[0m\u001b[0;34m)\u001b[0m \u001b[0;31m# valores default iniciais\u001b[0m\u001b[0;34m\u001b[0m\u001b[0;34m\u001b[0m\u001b[0m\n\u001b[0m\u001b[1;32m     16\u001b[0m \u001b[0;34m\u001b[0m\u001b[0m\n\u001b[1;32m     17\u001b[0m     \u001b[0;32mwhile\u001b[0m \u001b[0;32mnot\u001b[0m \u001b[0mglfw\u001b[0m\u001b[0;34m.\u001b[0m\u001b[0mwindow_should_close\u001b[0m\u001b[0;34m(\u001b[0m\u001b[0mwindow\u001b[0m\u001b[0;34m)\u001b[0m\u001b[0;34m:\u001b[0m\u001b[0;34m\u001b[0m\u001b[0;34m\u001b[0m\u001b[0m\n",
      "\u001b[0;31mTypeError\u001b[0m: __init__() takes 7 positional arguments but 8 were given"
     ]
    }
   ],
   "source": [
    "def main():\n",
    "    if not glfw.init():\n",
    "        return\n",
    "    window = glfw.create_window(1280, 760, 'X-fera', None, None)\n",
    "    if not window:\n",
    "        glfw.terminate()\n",
    "        return\n",
    "    \n",
    "    glfw.make_context_current(window)\n",
    "    \n",
    "    glClearColor(0.2, 0.3, 0.2, 1.0)\n",
    "    glEnable(GL_DEPTH_TEST)\n",
    "    \n",
    "    shader = shaders.compileProgram(shaders.compileShader(vertex_shader, GL_VERTEX_SHADER), shaders.compileShader(fragment_shader, GL_FRAGMENT_SHADER))\n",
    "    shape = Shape('sphere', PhongMaterial(shader, 'flat', 1, 0, 0, 0.5, 0.3)) # valores default iniciais\n",
    "    \n",
    "    while not glfw.window_should_close(window):\n",
    "        glfw.poll_events()\n",
    "        glClear(GL_COLOR_BUFFER_BIT | GL_DEPTH_BUFFER_BIT)\n",
    "        shape.render()\n",
    "        glfw.swap_buffers(window)\n",
    "    glfw.terminate()\n",
    "    \n",
    "if __name__ == '__main__':\n",
    "    main()"
   ]
  },
  {
   "cell_type": "code",
   "execution_count": null,
   "metadata": {},
   "outputs": [],
   "source": []
  }
 ],
 "metadata": {
  "kernelspec": {
   "display_name": "Python 3",
   "language": "python",
   "name": "python3"
  }
 },
 "nbformat": 4,
 "nbformat_minor": 2
}
